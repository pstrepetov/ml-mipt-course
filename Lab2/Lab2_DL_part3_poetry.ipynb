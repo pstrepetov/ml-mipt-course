{
  "cells": [
    {
      "cell_type": "markdown",
      "metadata": {
        "id": "Qh-Im1BnC5dX"
      },
      "source": [
        "## Lab 2"
      ]
    },
    {
      "cell_type": "markdown",
      "metadata": {
        "id": "DeiDURdLC5dg"
      },
      "source": [
        "### Part 3. Poetry generation\n",
        "\n",
        "Let's try to generate some poetry using RNNs. \n",
        "\n",
        "You have several choices here: \n",
        "\n",
        "* The Shakespeare sonnets, file `sonnets.txt` available in the notebook directory.\n",
        "\n",
        "* Роман в стихах \"Евгений Онегин\" Александра Сергеевича Пушкина. В предобработанном виде доступен по [ссылке](https://github.com/attatrol/data_sources/blob/master/onegin.txt).\n",
        "\n",
        "* Some other text source, if it will be approved by the course staff.\n",
        "\n",
        "Text generation can be designed in several steps:\n",
        "    \n",
        "1. Data loading.\n",
        "2. Dictionary generation.\n",
        "3. Data preprocessing.\n",
        "4. Model (neural network) training.\n",
        "5. Text generation (model evaluation).\n"
      ]
    },
    {
      "cell_type": "code",
      "execution_count": 1,
      "metadata": {
        "id": "sVdLBOmqC5di"
      },
      "outputs": [],
      "source": [
        "import string\n",
        "import os"
      ]
    },
    {
      "cell_type": "markdown",
      "metadata": {
        "id": "cFuVFCyhC5dj"
      },
      "source": [
        "### Data loading: Shakespeare"
      ]
    },
    {
      "cell_type": "markdown",
      "metadata": {
        "id": "T-dkQRQ9C5dk"
      },
      "source": [
        "Shakespeare sonnets are awailable at this [link](http://www.gutenberg.org/ebooks/1041?msg=welcome_stranger). In addition, they are stored in the same directory as this notebook (`sonnetes.txt`). Simple preprocessing is already done for you in the next cell: all technical info is dropped."
      ]
    },
    {
      "cell_type": "code",
      "execution_count": 2,
      "metadata": {
        "collapsed": true,
        "id": "bpUgrHWaC5dk",
        "outputId": "562bf083-6b8c-4b85-b873-90d169270742",
        "colab": {
          "base_uri": "https://localhost:8080/"
        }
      },
      "outputs": [
        {
          "output_type": "stream",
          "name": "stdout",
          "text": [
            "--2023-02-25 22:19:00--  https://raw.githubusercontent.com/girafe-ai/ml-course/22f_basic/homeworks/lab02_deep_learning/sonnets.txt\n",
            "Resolving raw.githubusercontent.com (raw.githubusercontent.com)... 185.199.108.133, 185.199.109.133, 185.199.110.133, ...\n",
            "Connecting to raw.githubusercontent.com (raw.githubusercontent.com)|185.199.108.133|:443... connected.\n",
            "HTTP request sent, awaiting response... 200 OK\n",
            "Length: 119748 (117K) [text/plain]\n",
            "Saving to: ‘sonnets.txt’\n",
            "\n",
            "\rsonnets.txt           0%[                    ]       0  --.-KB/s               \rsonnets.txt         100%[===================>] 116.94K  --.-KB/s    in 0.02s   \n",
            "\n",
            "2023-02-25 22:19:00 (5.25 MB/s) - ‘sonnets.txt’ saved [119748/119748]\n",
            "\n"
          ]
        }
      ],
      "source": [
        "!wget https://raw.githubusercontent.com/girafe-ai/ml-course/22f_basic/homeworks/lab02_deep_learning/sonnets.txt\n",
        "\n",
        "with open('sonnets.txt', 'r') as iofile:\n",
        "    text = iofile.readlines()\n",
        "    \n",
        "TEXT_START = 45\n",
        "TEXT_END = -368\n",
        "text = text[TEXT_START : TEXT_END]\n",
        "assert len(text) == 2616"
      ]
    },
    {
      "cell_type": "markdown",
      "metadata": {
        "id": "d9R1NXCXC5dl"
      },
      "source": [
        "In opposite to the in-class practice, this time we want to predict complex text. Let's reduce the complexity of the task and lowercase all the symbols.\n",
        "\n",
        "Now variable `text` is a list of strings. Join all the strings into one and lowercase it."
      ]
    },
    {
      "cell_type": "code",
      "execution_count": 3,
      "metadata": {
        "id": "-L-PSc7cC5dl",
        "outputId": "a120ef78-6879-441f-ecb8-6084c9e9b0d2",
        "colab": {
          "base_uri": "https://localhost:8080/"
        }
      },
      "outputs": [
        {
          "output_type": "stream",
          "name": "stdout",
          "text": [
            "max length = 63\n",
            "OK!\n"
          ]
        }
      ],
      "source": [
        "# Join all the strings into one and lowercase it\n",
        "# Put result into variable text.\n",
        "\n",
        "text_ = ''.join(text).lower()\n",
        "MAX_LENGTH = max(map(len, text))\n",
        "print(\"max length =\", MAX_LENGTH)\n",
        "\n",
        "assert len(text_) == 100225, 'Are you sure you have concatenated all the strings?'\n",
        "assert not any([x in set(text_) for x in string.ascii_uppercase]), 'Uppercase letters are present'\n",
        "print('OK!')"
      ]
    },
    {
      "cell_type": "markdown",
      "metadata": {
        "id": "K83--qlSC5dm"
      },
      "source": [
        "### Data loading: \"Евгений Онегин\"\n"
      ]
    },
    {
      "cell_type": "code",
      "execution_count": null,
      "metadata": {
        "id": "2Gsrt3_UC5dn",
        "outputId": "94884717-0af7-49a4-f27a-9614590b7408",
        "colab": {
          "base_uri": "https://localhost:8080/"
        }
      },
      "outputs": [
        {
          "output_type": "stream",
          "name": "stdout",
          "text": [
            "--2023-02-23 23:28:42--  https://raw.githubusercontent.com/attatrol/data_sources/master/onegin.txt\n",
            "Resolving raw.githubusercontent.com (raw.githubusercontent.com)... 185.199.108.133, 185.199.109.133, 185.199.110.133, ...\n",
            "Connecting to raw.githubusercontent.com (raw.githubusercontent.com)|185.199.108.133|:443... connected.\n",
            "HTTP request sent, awaiting response... 200 OK\n",
            "Length: 262521 (256K) [text/plain]\n",
            "Saving to: ‘onegin.txt.1’\n",
            "\n",
            "\ronegin.txt.1          0%[                    ]       0  --.-KB/s               \ronegin.txt.1        100%[===================>] 256.37K  --.-KB/s    in 0.03s   \n",
            "\n",
            "2023-02-23 23:28:42 (7.93 MB/s) - ‘onegin.txt.1’ saved [262521/262521]\n",
            "\n"
          ]
        }
      ],
      "source": [
        "!wget https://raw.githubusercontent.com/attatrol/data_sources/master/onegin.txt\n",
        "    \n",
        "with open('onegin.txt', 'r') as iofile:\n",
        "    text = iofile.readlines()\n",
        "    \n",
        "text = [x.replace('\\t\\t', '') for x in text]"
      ]
    },
    {
      "cell_type": "markdown",
      "metadata": {
        "id": "-gzvVfAbC5do"
      },
      "source": [
        "In opposite to the in-class practice, this time we want to predict complex text. Let's reduce the complexity of the task and lowercase all the symbols.\n",
        "\n",
        "Now variable `text` is a list of strings. Join all the strings into one and lowercase it."
      ]
    },
    {
      "cell_type": "code",
      "execution_count": null,
      "metadata": {
        "id": "gJOPI9TiC5dp",
        "outputId": "65b4f2df-ecaf-495f-e4a9-60b9224dc49c",
        "colab": {
          "base_uri": "https://localhost:8080/"
        }
      },
      "outputs": [
        {
          "output_type": "stream",
          "name": "stdout",
          "text": [
            "max length = 63\n"
          ]
        }
      ],
      "source": [
        "# Join all the strings into one and lowercase it\n",
        "# Put result into variable text.\n",
        "\n",
        "text_ = ''.join(text).lower()"
      ]
    },
    {
      "cell_type": "markdown",
      "source": [
        "### Dictionary generation"
      ],
      "metadata": {
        "id": "q6gLTqQRj-jt"
      }
    },
    {
      "cell_type": "markdown",
      "metadata": {
        "id": "i84cbN86C5dr"
      },
      "source": [
        "Put all the characters, that you've seen in the text, into variable `tokens`."
      ]
    },
    {
      "cell_type": "code",
      "execution_count": 61,
      "metadata": {
        "id": "tZaQQRiSC5dr"
      },
      "outputs": [],
      "source": [
        "out = [char for char in text_]\n",
        "tokens = sorted(set(out))\n",
        "tokens.append('_')\n",
        "num_tokens = len(tokens)"
      ]
    },
    {
      "cell_type": "markdown",
      "metadata": {
        "id": "DSnD3pacC5ds"
      },
      "source": [
        "Create dictionary `token_to_idx = {<char>: <index>}` and dictionary `idx_to_token = {<index>: <char>}`"
      ]
    },
    {
      "cell_type": "code",
      "execution_count": 62,
      "metadata": {
        "collapsed": true,
        "id": "jd0v3O4VC5ds",
        "outputId": "f0b19b00-381b-422e-b433-7c80e290ec9c",
        "colab": {
          "base_uri": "https://localhost:8080/"
        }
      },
      "outputs": [
        {
          "output_type": "stream",
          "name": "stdout",
          "text": [
            "{'\\n': 0, ' ': 1, '!': 2, \"'\": 3, '(': 4, ')': 5, ',': 6, '-': 7, '.': 8, ':': 9, ';': 10, '?': 11, 'a': 12, 'b': 13, 'c': 14, 'd': 15, 'e': 16, 'f': 17, 'g': 18, 'h': 19, 'i': 20, 'j': 21, 'k': 22, 'l': 23, 'm': 24, 'n': 25, 'o': 26, 'p': 27, 'q': 28, 'r': 29, 's': 30, 't': 31, 'u': 32, 'v': 33, 'w': 34, 'x': 35, 'y': 36, 'z': 37, '_': 38}\n",
            "{0: '\\n', 1: ' ', 2: '!', 3: \"'\", 4: '(', 5: ')', 6: ',', 7: '-', 8: '.', 9: ':', 10: ';', 11: '?', 12: 'a', 13: 'b', 14: 'c', 15: 'd', 16: 'e', 17: 'f', 18: 'g', 19: 'h', 20: 'i', 21: 'j', 22: 'k', 23: 'l', 24: 'm', 25: 'n', 26: 'o', 27: 'p', 28: 'q', 29: 'r', 30: 's', 31: 't', 32: 'u', 33: 'v', 34: 'w', 35: 'x', 36: 'y', 37: 'z', 38: '_'}\n"
          ]
        }
      ],
      "source": [
        "# dict <index>:<char>\n",
        "token_to_idx = {token: idx for idx, token in enumerate(tokens)}\n",
        "print(token_to_idx)\n",
        "# dict <char>:<index>\n",
        "idx_to_token = dict((v,k) for k,v in token_to_idx.items())\n",
        "print(idx_to_token)\n",
        "\n",
        "for i in range(num_tokens):\n",
        "    assert token_to_idx[tokens[i]] == i, \"token identifier must be it's position in tokens list\""
      ]
    },
    {
      "cell_type": "markdown",
      "source": [
        "### Data preprocessing (Shakespeare)"
      ],
      "metadata": {
        "id": "NJqBZiON0QHN"
      }
    },
    {
      "cell_type": "code",
      "source": [
        "import re\n",
        "sonnets_ = re.split('\\n\\n', text_)\n",
        "sonnets_ = sonnets_[0::2]\n",
        "print(len(sonnets_))"
      ],
      "metadata": {
        "colab": {
          "base_uri": "https://localhost:8080/"
        },
        "id": "opwQmDktwUUr",
        "outputId": "73c66179-899a-4f59-a2c4-eb04bffd9c61"
      },
      "execution_count": 63,
      "outputs": [
        {
          "output_type": "stream",
          "name": "stdout",
          "text": [
            "154\n"
          ]
        }
      ]
    },
    {
      "cell_type": "code",
      "source": [
        "sonnets = [sonnet + '\\n' for sonnet in sonnets_]\n",
        "print(sonnets[1:2])\n",
        "print(max(map(len,sonnets)))"
      ],
      "metadata": {
        "colab": {
          "base_uri": "https://localhost:8080/"
        },
        "id": "2ZuA7XIb1aX8",
        "outputId": "875c685d-c1fd-4c30-f4ff-bab01f7ebafe"
      },
      "execution_count": 64,
      "outputs": [
        {
          "output_type": "stream",
          "name": "stdout",
          "text": [
            "[\"  when forty winters shall besiege thy brow,\\n  and dig deep trenches in thy beauty's field,\\n  thy youth's proud livery so gazed on now,\\n  will be a tatter'd weed of small worth held:\\n  then being asked, where all thy beauty lies,\\n  where all the treasure of thy lusty days;\\n  to say, within thine own deep sunken eyes,\\n  were an all-eating shame, and thriftless praise.\\n  how much more praise deserv'd thy beauty's use,\\n  if thou couldst answer 'this fair child of mine\\n  shall sum my count, and make my old excuse,'\\n  proving his beauty by succession thine!\\n    this were to be new made when thou art old,\\n    and see thy blood warm when thou feel'st it cold.\\n\"]\n",
            "709\n"
          ]
        }
      ]
    },
    {
      "cell_type": "markdown",
      "metadata": {
        "id": "aJ2wPJ8gC5ds"
      },
      "source": [
        "*Comment: in this task we have only 38 different tokens, so let's use one-hot encoding.*"
      ]
    },
    {
      "cell_type": "markdown",
      "metadata": {
        "id": "fEajQRirC5dt"
      },
      "source": [
        "### Building the model"
      ]
    },
    {
      "cell_type": "markdown",
      "metadata": {
        "id": "qEdXwR2oC5dt"
      },
      "source": [
        "Now we want to build and train recurrent neural net which would be able to something similar to Shakespeare's poetry.\n",
        "\n",
        "Let's use vanilla RNN, similar to the one created during the lesson."
      ]
    },
    {
      "cell_type": "code",
      "source": [
        "import numpy as np\n",
        "import matplotlib.pyplot as plt\n",
        "\n",
        "def to_matrix(\n",
        "    text, max_len=None, pad=token_to_idx['_'], dtype='int32', batch_first=True\n",
        "    ):\n",
        "    \"\"\"Casts a list of texts into rnn-digestable matrix\"\"\"\n",
        "    \n",
        "    max_len = max_len or max(map(len, text))\n",
        "    text_ix = np.zeros([len(text), max_len], dtype) + pad\n",
        "\n",
        "    for i in range(len(text)):\n",
        "        line_ix = [token_to_idx[c] for c in text[i]][:max_len]\n",
        "        text_ix[i, :len(line_ix)] = line_ix\n",
        "\n",
        "        \n",
        "    if not batch_first: # convert [batch, time] into [time, batch]\n",
        "        text_ix = np.transpose(text_ix)\n",
        "\n",
        "    return text_ix"
      ],
      "metadata": {
        "id": "x3gpyy1HgRTe"
      },
      "execution_count": 65,
      "outputs": []
    },
    {
      "cell_type": "code",
      "source": [
        "print(to_matrix(sonnets[:2]))"
      ],
      "metadata": {
        "colab": {
          "base_uri": "https://localhost:8080/"
        },
        "id": "1pulmfYHLXlq",
        "outputId": "9b60883d-cdcb-464e-ae73-62d4ec719343"
      },
      "execution_count": 66,
      "outputs": [
        {
          "output_type": "stream",
          "name": "stdout",
          "text": [
            "[[ 1  1 17 ... 38 38 38]\n",
            " [ 1  1 34 ... 15  8  0]]\n"
          ]
        }
      ]
    },
    {
      "cell_type": "code",
      "source": [
        "NUM_UNITS = 256\n",
        "NUM_TOKENS = len(tokens) #39\n",
        "MAX_LEN = max(map(len,sonnets)) #709\n",
        "BATCH_LEN = 32"
      ],
      "metadata": {
        "id": "iDSjgqj4Q0ml"
      },
      "execution_count": 90,
      "outputs": []
    },
    {
      "cell_type": "code",
      "source": [
        "import torch, torch.nn as nn\n",
        "import torch.nn.functional as F\n",
        "\n",
        "class CharRNNCell(nn.Module):\n",
        "    \"\"\"\n",
        "    Implement the scheme above as torch module\n",
        "    \"\"\"\n",
        "    def __init__(self, num_tokens=NUM_TOKENS, embedding_size=MAX_LEN, rnn_num_units=NUM_UNITS):\n",
        "        super(self.__class__,self).__init__()\n",
        "        self.num_units = rnn_num_units\n",
        "        \n",
        "        self.embedding = nn.Embedding(num_tokens, embedding_size)\n",
        "        self.rnn_update = nn.Linear(embedding_size + rnn_num_units, rnn_num_units)\n",
        "        self.rnn_to_logits = nn.Linear(rnn_num_units, num_tokens)\n",
        "        \n",
        "    def forward(self, x, h_prev):\n",
        "        \"\"\"\n",
        "        This method computes h_next(x, h_prev) and log P(x_next | h_next)\n",
        "        We'll call it repeatedly to produce the whole sequence.\n",
        "        \n",
        "        :param x: batch of character ids, containing vector of int64\n",
        "        :param h_prev: previous rnn hidden states, containing matrix [batch, rnn_num_units] of float32\n",
        "        \"\"\"\n",
        "        # get vector embedding of x\n",
        "        x_emb = self.embedding(x)\n",
        "        \n",
        "        # compute next hidden state using self.rnn_update\n",
        "        x_and_h = torch.cat([x_emb, h_prev], dim=-1)\n",
        "        h_next = self.rnn_update(x_and_h)\n",
        "        h_next = torch.tanh(h_next)\n",
        "        \n",
        "        assert h_next.size() == h_prev.size()\n",
        "        \n",
        "        #compute logits for next character probs\n",
        "        logits = self.rnn_to_logits(h_next)\n",
        "        \n",
        "        return h_next, logits\n",
        "    \n",
        "    def initial_state(self, batch_size):\n",
        "        \"\"\" return rnn state before it processes first input (aka h0) \"\"\"\n",
        "        return torch.zeros(batch_size, self.num_units, requires_grad=True)"
      ],
      "metadata": {
        "id": "uagwHcq2Id7n"
      },
      "execution_count": 91,
      "outputs": []
    },
    {
      "cell_type": "code",
      "source": [
        "def rnn_loop(char_rnn, batch_ix):\n",
        "    \"\"\"\n",
        "    Computes log P(next_character) for all time-steps in names_ix\n",
        "    :param names_ix: an int32 matrix of shape [batch, time], output of to_matrix(names)\n",
        "    \"\"\"\n",
        "    batch_size, max_length = batch_ix.size()\n",
        "    hid_state = char_rnn.initial_state(batch_size)\n",
        "    logits = []\n",
        "\n",
        "    for x_t in batch_ix.transpose(0,1):\n",
        "        hid_state, logits_next = char_rnn(x_t, hid_state)  # <-- here we call your one-step code\n",
        "        logits.append(logits_next)\n",
        "        \n",
        "    return torch.stack(logits, dim=1)"
      ],
      "metadata": {
        "id": "wYVcT0u4LafF"
      },
      "execution_count": 92,
      "outputs": []
    },
    {
      "cell_type": "code",
      "source": [
        "from IPython.display import clear_output\n",
        "from random import sample\n",
        "\n",
        "char_rnn = CharRNNCell()\n",
        "opt = torch.optim.Adam(char_rnn.parameters())\n",
        "loss_func = nn.CrossEntropyLoss(ignore_index=token_to_idx['_'])\n",
        "\n",
        "history = []"
      ],
      "metadata": {
        "id": "Kqu3aKDqMMOG"
      },
      "execution_count": 93,
      "outputs": []
    },
    {
      "cell_type": "code",
      "source": [
        "for i in range(1000):\n",
        "    batch_ix = to_matrix(sample(sonnets, BATCH_LEN), max_len=MAX_LEN)\n",
        "    batch_ix = torch.tensor(batch_ix, dtype=torch.int64)\n",
        "    \n",
        "    logits_seq = rnn_loop(char_rnn, batch_ix)\n",
        "    \n",
        "    predictions_logits = logits_seq[:, :-1]\n",
        "    actual_next_tokens = batch_ix[:, 1:]\n",
        "\n",
        "    loss = loss_func(\n",
        "    predictions_logits.reshape((-1, num_tokens)),\n",
        "    actual_next_tokens.reshape(-1)\n",
        "    )\n",
        "    loss.backward()\n",
        "    opt.step()\n",
        "    \n",
        "    opt.zero_grad()\n",
        "    \n",
        "    history.append(loss.data.numpy())\n",
        "    if (i+1)%100==0:\n",
        "        clear_output(True)\n",
        "        plt.plot(history,label='loss')\n",
        "        plt.ylabel('Loss')\n",
        "        plt.xlabel('epoch')\n",
        "        plt.suptitle('Loss per epoch')\n",
        "        plt.legend()\n",
        "        plt.show()\n",
        "\n",
        "assert np.mean(history[:10]) > np.mean(history[-10:]), \"RNN didn't converge.\""
      ],
      "metadata": {
        "id": "Jky7XT4ekutg",
        "outputId": "1b57fd9f-1063-4ae2-f500-7b195d1886d4",
        "colab": {
          "base_uri": "https://localhost:8080/",
          "height": 308
        }
      },
      "execution_count": 94,
      "outputs": [
        {
          "output_type": "display_data",
          "data": {
            "text/plain": [
              "<Figure size 432x288 with 1 Axes>"
            ],
            "image/png": "[encoded data removed]"
          },
          "metadata": {
            "needs_background": "light"
          }
        }
      ]
    },
    {
      "cell_type": "markdown",
      "metadata": {
        "id": "Zma7iAdGC5du"
      },
      "source": [
        "Plot the loss function (axis X: number of epochs, axis Y: loss function)."
      ]
    },
    {
      "cell_type": "code",
      "execution_count": 95,
      "metadata": {
        "id": "xsQJUVV1C5du"
      },
      "outputs": [],
      "source": [
        "def generate_sample(char_rnn, seed_phrase='a', max_length=MAX_LEN, temperature=1.0):\n",
        "    '''\n",
        "    The function generates text given a phrase of length at least SEQ_LENGTH.\n",
        "    :param seed_phrase: prefix characters. The RNN is asked to continue the phrase\n",
        "    :param max_length: maximum output length, including seed_phrase\n",
        "    :param temperature: coefficient for sampling.  higher temperature produces more chaotic outputs,\n",
        "                        smaller temperature converges to the single most likely output\n",
        "    '''\n",
        "    \n",
        "    x_sequence = [token_to_idx[token] for token in seed_phrase]\n",
        "    x_sequence = torch.tensor([x_sequence], dtype=torch.int64)\n",
        "    hid_state = char_rnn.initial_state(batch_size=1)\n",
        "    \n",
        "    #feed the seed phrase, if any\n",
        "    for i in range(len(seed_phrase) - 1):\n",
        "        hid_state, _ = char_rnn(x_sequence[:, i], hid_state)\n",
        "    \n",
        "    #start generating\n",
        "    for _ in range(max_length - len(seed_phrase)):\n",
        "        hid_state, logits_next = char_rnn(x_sequence[:, -1], hid_state)\n",
        "        p_next = F.softmax(logits_next / temperature, dim=-1).data.numpy()[0]\n",
        "        \n",
        "        # sample next token and push it back into x_sequence\n",
        "        next_ix = np.random.choice(num_tokens, p=p_next)\n",
        "        next_ix = torch.tensor([[next_ix]], dtype=torch.int64)\n",
        "        x_sequence = torch.cat([x_sequence, next_ix], dim=1)\n",
        "\n",
        "    return ''.join([tokens[ix] for ix in x_sequence.data.numpy()[0]])"
      ]
    },
    {
      "cell_type": "code",
      "source": [
        "def print_poem(model, temperature=1.0, seed='away'):\n",
        "    for i in range(4):\n",
        "        poem = generate_sample(model, seed_phrase=seed, temperature=temperature)\n",
        "        print(poem)\n",
        "        print('\\n')"
      ],
      "metadata": {
        "id": "ktEE5vBjpzuD"
      },
      "execution_count": 98,
      "outputs": []
    },
    {
      "cell_type": "code",
      "source": [
        "print_poem(char_rnn, 1.0)"
      ],
      "metadata": {
        "colab": {
          "base_uri": "https://localhost:8080/"
        },
        "id": "UPMtpYOfM8A3",
        "outputId": "b19be2ae-1423-4a2e-9472-93281c41f798"
      },
      "execution_count": 99,
      "outputs": [
        {
          "output_type": "stream",
          "name": "stdout",
          "text": [
            "away;\n",
            "  these doth the frister'd new large we thixh all here of my best canst before\n",
            "  my soble despectime;\n",
            "  with my dearest-in of your silen thee his fige.\n",
            "  no, no hold depent,\n",
            "  and all thy bath thee, kilive there;\n",
            "  save seen\n",
            "  passivion doth disgrabson thy lacklawe to the growing than every chilate.'\n",
            "    thou that were base mortard best of my love be fresh?\n",
            "    me, yet, but the priity,\n",
            "  and in dupit eat'st by yourself with sickly not thy looks.\n",
            "    yet then lose, and i lo, of the world-time's might that it with blend;\n",
            "    'tis myself eyes back she that best want no pent,\n",
            "  the daises love debady them nightly chesting,\n",
            "  or wonceat is trifles blood i his lett\n",
            "  fell mine own larse, nor charge d\n",
            "\n",
            "\n",
            "away, being your fairs of their part,\n",
            "  and true,'s usest can all to grow.\n",
            "    that they see anst yet alone.\n",
            "    when thy compicic refeasing your well;\n",
            "    then to live.\n",
            "    but love thy presers that it win of memory advance thou art mine eye i am shadows live?\n",
            "    and did needs never love-cross, where would be farthand i be such worst of evil thy wanting of my wook shours\n",
            "  so thy love and thyments my graves i singer by thy self all the art,\n",
            "  that his summer's ride;\n",
            "  say write of the fiew,\n",
            "  those stapt ever, black like.\n",
            "  the iwleth,\n",
            "  like short,\n",
            "  why have where that feed, make rare.\n",
            "  do be set,\n",
            "    all all my contrilly behind;\n",
            "  hath love, will be fair, me, to shape life the confest.\n",
            "    yet \n",
            "\n",
            "\n",
            "away, to behold.\n",
            "  of golden keep\n",
            "  when thou that see thou thy sight;\n",
            "  and for waste to anothed or whom i an one tyrantest,\n",
            "  to all alone of thee new;\n",
            "  times should acquainst this my sheller place:\n",
            "  mine own change;\n",
            "  those hour:\n",
            "  but to shopping in the handself, title thou my there,\n",
            "  as clove thyself deight\n",
            "  in my heart without be blisses me bow,\n",
            "    and this mines that with tyrann'd,\n",
            "  to time day, be antingal fair,\n",
            "  untruth niggard.\n",
            "  that i may thus fierit eyes i letter, who should long me.\n",
            "    o! for the madness light;\n",
            "  for you dost is shall both shows though desire.\n",
            "    so from your jolding with thy face defelse.\n",
            "    no! wish should he heart to time; ply;\n",
            "  being bounting self, but to\n",
            "\n",
            "\n",
            "away,\n",
            "  that mine eye of this green beauty's cold on none.\n",
            "  thy wome might thy self counts o't if thou art be to this is of shame:\n",
            "  he out thy 'will.\n",
            "  not be raugh'd when their wirth, though my mistress' canspiep\n",
            "  as truft'st him to my sweet leaves fault,\n",
            "  making the heart:\n",
            "  for where;\n",
            "    how all my sin thee more self all overounds of my,\n",
            "  all in eyes best in the eye is fairest tough, or mine eye life, on shame:\n",
            "  for their toulds, found of encerane.\n",
            "  so surledance be,--for all appare,\n",
            "  thou miner war notly news these cannot thou art yous gift thou art my heacted bost lore wail the brand praise what is unfile's hearts save, that my hate,\n",
            "  when thou being from thought when i not away,\n",
            "  and\n",
            "\n",
            "\n"
          ]
        }
      ]
    },
    {
      "cell_type": "markdown",
      "metadata": {
        "id": "f7NZ1ZpUC5dv"
      },
      "source": [
        "### More poetic model\n",
        "\n",
        "Let's use LSTM instead of vanilla RNN and compare the results."
      ]
    },
    {
      "cell_type": "code",
      "source": [
        "class CharLSTMLoop(nn.Module):\n",
        "    def __init__(self, num_tokens=NUM_TOKENS, emb_size=MAX_LEN, lstm_num_units=NUM_UNITS, num_layers=1):\n",
        "        super(self.__class__, self).__init__()\n",
        "        self.num_units = lstm_num_units\n",
        "        self.num_layers = num_layers\n",
        "\n",
        "        self.emb = nn.Embedding(num_tokens, emb_size)\n",
        "        self.lstm = nn.LSTM(emb_size, lstm_num_units, num_layers=num_layers, batch_first=True)\n",
        "        self.hid_to_logits = nn.Linear(lstm_num_units, num_tokens)\n",
        "    \n",
        "    def forward(self, x, state):\n",
        "        input = self.emb(x)\n",
        "        output, state = self.lstm(input, state)\n",
        "        next_logits = self.hid_to_logits(output)\n",
        "\n",
        "        return state, next_logits\n",
        "\n",
        "    def initial_state(self, batch_size):\n",
        "        return (torch.zeros(self.num_layers, batch_size, self.num_units, requires_grad=True),\n",
        "                torch.zeros(self.num_layers, batch_size, self.num_units, requires_grad=True))\n",
        "\n",
        "model_lstm = CharLSTMLoop(emb_size=64)\n",
        "opt = torch.optim.Adam(model_lstm.parameters())\n",
        "loss_func = nn.CrossEntropyLoss(ignore_index=token_to_idx['_'])\n",
        "history = []"
      ],
      "metadata": {
        "id": "sbaK48dH5THW"
      },
      "execution_count": 73,
      "outputs": []
    },
    {
      "cell_type": "markdown",
      "metadata": {
        "id": "NyEjsdKiC5dw"
      },
      "source": [
        "Plot the loss function of the number of epochs. Does the final loss become better?"
      ]
    },
    {
      "cell_type": "code",
      "execution_count": 83,
      "metadata": {
        "collapsed": true,
        "id": "ih7Va7PMC5dw",
        "colab": {
          "base_uri": "https://localhost:8080/",
          "height": 265
        },
        "outputId": "757345f9-de54-4cf6-85be-1fd7ae73ac2b"
      },
      "outputs": [
        {
          "output_type": "display_data",
          "data": {
            "text/plain": [
              "<Figure size 432x288 with 1 Axes>"
            ],
            "image/png": "[encoded data removed]"
          },
          "metadata": {
            "needs_background": "light"
          }
        }
      ],
      "source": [
        "for i in range(1000):\n",
        "    batch_ix = to_matrix(sample(sonnets, BATCH_LEN))\n",
        "    batch_ix = torch.LongTensor(batch_ix)\n",
        "    state = model_lstm.initial_state(BATCH_LEN)\n",
        "\n",
        "    state, logits_seq = model_lstm(batch_ix, state)\n",
        "    \n",
        "    #compute loss\n",
        "    predictions_logits = logits_seq[:, :-1]\n",
        "    actual_next_tokens = batch_ix[:, 1:]\n",
        "    loss = loss_func(predictions_logits.contiguous().view(-1, NUM_TOKENS), \n",
        "                     actual_next_tokens.contiguous().view(-1))\n",
        "    \n",
        "    # train with backprop\n",
        "    loss.backward()\n",
        "\n",
        "    opt.step()\n",
        "    opt.zero_grad()\n",
        "    \n",
        "    history.append(loss.data.numpy())\n",
        "    if (i+1)%100==0:\n",
        "      clear_output(True)\n",
        "      plt.plot(history,label='loss')\n",
        "      plt.legend()\n",
        "      plt.show()\n",
        "\n",
        "assert np.mean(history[:10]) > np.mean(history[-10:]), \"LSTM didn't converge.\""
      ]
    },
    {
      "cell_type": "code",
      "source": [
        "def generate_sample_lstm(rnn, seed_phrase='a', max_length=MAX_LEN, temperature=1.0):\n",
        "    '''\n",
        "    The function generates text given a phrase of length at least SEQ_LENGTH.\n",
        "    :param seed_phrase: prefix characters. The LSTM is asked to continue the phrase\n",
        "    :param max_length: maximum output length, including seed_phrase\n",
        "    :param temperature: coefficient for sampling.  higher temperature produces more chaotic outputs,\n",
        "                        smaller temperature converges to the single most likely output\n",
        "    '''\n",
        "    \n",
        "    x_sequence = [token_to_idx[token] for token in seed_phrase.lower()]\n",
        "    x_sequence = torch.tensor([x_sequence], dtype=torch.int64)\n",
        "    state = rnn.initial_state(batch_size=1)\n",
        "    \n",
        "    #feed the seed phrase, if any\n",
        "    state, logits_next = rnn(x_sequence, state)\n",
        "    \n",
        "    #start generating\n",
        "    for _ in range(max_length - len(seed_phrase)):\n",
        "        state, logits_next = rnn(x_sequence[:, None, -1], state)\n",
        "        p_next = F.softmax(logits_next / temperature, dim=-1).data.numpy()[0]\n",
        "        \n",
        "        # sample next token and push it back into x_sequence\n",
        "        next_ix = np.random.choice(num_tokens, p=p_next[0])\n",
        "        next_ix = torch.tensor([[next_ix]], dtype=torch.int64)\n",
        "        x_sequence = torch.cat([x_sequence, next_ix], dim=1)\n",
        "\n",
        "    return ''.join([tokens[ix] for ix in x_sequence.data.numpy()[0]])"
      ],
      "metadata": {
        "id": "XMOIWXEqSaMl"
      },
      "execution_count": 75,
      "outputs": []
    },
    {
      "cell_type": "markdown",
      "metadata": {
        "id": "Whi9QVE9C5dw"
      },
      "source": [
        "Generate text using the trained net with different `temperature` parameter: `[0.1, 0.2, 0.5, 1.0, 2.0]`.\n",
        "\n",
        "Evaluate the results visually, try to interpret them."
      ]
    },
    {
      "cell_type": "code",
      "execution_count": 84,
      "metadata": {
        "collapsed": true,
        "id": "4-iHOy3-C5dw",
        "colab": {
          "base_uri": "https://localhost:8080/"
        },
        "outputId": "f10fe163-8c55-4a2e-dd12-b059c50b55fb"
      },
      "outputs": [
        {
          "output_type": "stream",
          "name": "stdout",
          "text": [
            "Temperature=0.1:\n",
            "away;\n",
            "      o! love i see the painted on such a prove the stary steal,\n",
            "  which i say mind of thine eyes are seen,\n",
            "  which i say seem but will be all the self,\n",
            "    and there and the true in my self doth live,\n",
            "  and such a compored of thee thine own state,\n",
            "  and such my love shall thee that love to me,\n",
            "    and therefore mayst thy sweet self i love thee,\n",
            "  where thou art thou art to thee i am now,\n",
            "  when i have seen the world with me thou hast,\n",
            "  and say the stars and self i love thee tend,\n",
            "  when i self the present of thy shadows spend,\n",
            "  the wide thoughts in thee i am not so sore,\n",
            "    and the true thee art to the see the starte,\n",
            "  and therefore mayst thou this poor dear live,\n",
            "  and that which i think \n",
            "\n",
            "\n",
            "Temperature=0.2:\n",
            "away,\n",
            "      o! i how i have seen the take that thou dost be as thee,\n",
            "  when thou art thou art which that thou mayst call,\n",
            "    and that heaven that all the world in heart,\n",
            "  that i shall be the self in the state,\n",
            "  and me thou wilt, for thy self doth show,\n",
            "    then that thou art with thee thou art as all.\n",
            "  the lear the world may still the world of thy state,\n",
            "  and such my love, and there is but love's great,\n",
            "  the though the stars to thee i am forthen.\n",
            "  and will not be straight in the world thee dear,\n",
            "  which i sun in menting that love still,\n",
            "  that i say that i am not so some;\n",
            "    but then the self to the strong mine eyes,\n",
            "  the world thee thou art as false i do now.\n",
            "    so long i see thee, that i \n",
            "\n",
            "\n",
            "Temperature=0.5:\n",
            "away?\n",
            "      i am not i wor it the three ano my self in thee alone,\n",
            "  why such a part where is my sake of me, to truth;\n",
            "  and since your heart in thee i am and dear\n",
            "  find the world, and that which through in thee,\n",
            "    self thou art be so vice me to white,\n",
            "  and therefore made live in thy self i seen,\n",
            "  which thy self the present doth should love show,\n",
            "    that shall be thy wadds be of sovereit death,\n",
            "  and both her, and thee i would be all heart\n",
            "  and self thou art mad and self thou art prove\n",
            "  one to thee, in their love and some in thee,\n",
            "  when i love thee, and therefore my desert,\n",
            "  and beauty shall with true thee are so streng;\n",
            "  but when i self despite of slave to show,\n",
            "    there alter then len s\n",
            "\n",
            "\n",
            "Temperature=1.0:\n",
            "away\n",
            "    i all though platureal of sake i have robst care hold?\n",
            "  thou makes tans all are thee,\n",
            "    freced imble find a throw'd fair form amber:\n",
            "    o! yet thou art wearny of wastes dig\n",
            "  for, all my being a summer's pride:\n",
            "  not shully forinest have the painter gaken:\n",
            "  but pition thy wilter goring of my upen\n",
            "  to fearten where thenore fully delame,\n",
            "    save is that thou, muse componeds doth told?\n",
            "  have sworn, buld not conceated wateot,\n",
            "    whrice so ewesh tongueet to more crife all place:\n",
            "    but such,ed thee for stronk's behink at my deep:\n",
            "  thy self thy wand,--rine ay the renite look.\n",
            "    this own confounded on one gone, what shometh\n",
            "  and but fordun my judg each you wild with,\n",
            "  and heart tenkl\n",
            "\n",
            "\n",
            "Temperature=2.0:\n",
            "away.-lazczlahjjisucp_kilvink,n;--test,anten potw?rblaws,\n",
            "  my kiinzkings our rathis wortabers-o've:\n",
            "     his xold tit is, orr,iof-lorigunmqucass,\n",
            "  nocy coot lel fisted viery cruel;\n",
            "  nay awiequgund ghe inajullys tiquer\n",
            ",  it hoon legixz; forift) i'ffects do is heals?,\n",
            "  whath my ppsorn've-siode's, minestlalo's yeak.'n\n",
            "  than (hathprisers quzeped, creiking stombslyihid;\n",
            "  abuste o'archfts breefil!-postroy.ing quity,\n",
            "  sworgly nacg itjoum why knowatt foun:\n",
            "  manffredonblamen'd; ull it giqectidni\n",
            "  can allunden, tenury tougu\n",
            "  tu paybblogm desfecticgsion;\n",
            "  asty expleyer i, vriaku nigginy,\n",
            "  enti'stnesstim'uncusy dut stele;\n",
            "  i o thal'st hs exere high ge hearty\n",
            ",,'w whatewhesp caygbar sucker'd not.\n",
            "  \n",
            "\n",
            "\n"
          ]
        }
      ],
      "source": [
        "temp = [0.1, 0.2, 0.5, 1.0, 2.0]\n",
        "\n",
        "for t in temp:\n",
        "  poem = generate_sample_lstm(model_lstm, seed_phrase = 'away', temperature=t)\n",
        "  print('Temperature=%s:' % t)\n",
        "  print(poem)\n",
        "  print('\\n')"
      ]
    },
    {
      "cell_type": "markdown",
      "metadata": {
        "id": "y6mdoSDMC5dx"
      },
      "source": [
        "### Saving and loading models"
      ]
    },
    {
      "cell_type": "markdown",
      "metadata": {
        "id": "mhH6mfbrC5dx"
      },
      "source": [
        "Save the model to the disk, then load it and generate text. Examples are available [here](https://pytorch.org/tutorials/beginner/saving_loading_models.html])."
      ]
    },
    {
      "cell_type": "code",
      "execution_count": 85,
      "metadata": {
        "collapsed": true,
        "id": "3Ld5KeFuC5dx",
        "colab": {
          "base_uri": "https://localhost:8080/"
        },
        "outputId": "4259ecc8-db8e-4ab7-fa39-b9bf14b49be5"
      },
      "outputs": [
        {
          "output_type": "stream",
          "name": "stdout",
          "text": [
            "Saving model to path ./model.pth\n"
          ]
        }
      ],
      "source": [
        "path = './model.pth'\n",
        "torch.save(model_lstm.state_dict(), path)\n",
        "print('Saving model to path %s' % path)"
      ]
    },
    {
      "cell_type": "code",
      "source": [
        "archieved_model = CharLSTMLoop(emb_size=64)\n",
        "archieved_model.load_state_dict(torch.load(path))\n",
        "archieved_model.eval()"
      ],
      "metadata": {
        "colab": {
          "base_uri": "https://localhost:8080/"
        },
        "id": "lossesrKG_fr",
        "outputId": "d0c92df9-d398-4440-9009-37257c24329b"
      },
      "execution_count": 86,
      "outputs": [
        {
          "output_type": "execute_result",
          "data": {
            "text/plain": [
              "CharLSTMLoop(\n",
              "  (emb): Embedding(39, 64)\n",
              "  (lstm): LSTM(64, 256, batch_first=True)\n",
              "  (hid_to_logits): Linear(in_features=256, out_features=39, bias=True)\n",
              ")"
            ]
          },
          "metadata": {},
          "execution_count": 86
        }
      ]
    },
    {
      "cell_type": "code",
      "source": [
        "print(generate_sample_lstm(archieved_model, seed_phrase = 'away', temperature=1.0))"
      ],
      "metadata": {
        "colab": {
          "base_uri": "https://localhost:8080/"
        },
        "id": "emK5BOimInLs",
        "outputId": "1f2e3a30-54ac-4d99-cd44-5a8c8601994b"
      },
      "execution_count": 87,
      "outputs": [
        {
          "output_type": "stream",
          "name": "stdout",
          "text": [
            "away..x?.  the drects on eyel knows white thought that love,\n",
            "  nor have posess from heich from their stains,\n",
            "  when thy prey of less' in thy true in pory\n",
            "  as with used from heart's grife in lee.\n",
            "  thins eye ming one offerides hounds unbainted;\n",
            "    and therefore than in her pone in thy amase;\n",
            "  some weceins, and thou myself idferanting,\n",
            "  when in the present cheke the losion me,\n",
            "  mure then that were that which excuse gone;\n",
            "  i say no teem'd the mayst thy did mide,\n",
            "    the oby night, ginds a diefur sing?\n",
            "  and one gone, i how my faire to muse,\n",
            "  and you came no, lich by deep show it thee:\n",
            "  but this wor, so ill the dost toncee,\n",
            "    hearts to perfect feeming me, my face so great,\n",
            "    turn'd muse which\n"
          ]
        }
      ]
    },
    {
      "cell_type": "markdown",
      "metadata": {
        "id": "B1vPfy5UC5dx"
      },
      "source": [
        "### References\n",
        "1. <a href='http://karpathy.github.io/2015/05/21/rnn-effectiveness/'> Andrew Karpathy blog post about RNN. </a> \n",
        "There are several examples of genration: Shakespeare texts, Latex formulas, Linux Sourse Code and children names.\n",
        "2. <a href='https://github.com/karpathy/char-rnn'> Repo with char-rnn code </a>\n",
        "3. Cool repo with PyTorch examples: [link](https://github.com/spro/practical-pytorch`)"
      ]
    }
  ],
  "metadata": {
    "anaconda-cloud": {},
    "kernelspec": {
      "display_name": "Python 3",
      "language": "python",
      "name": "python3"
    },
    "language_info": {
      "codemirror_mode": {
        "name": "ipython",
        "version": 3
      },
      "file_extension": ".py",
      "mimetype": "text/x-python",
      "name": "python",
      "nbconvert_exporter": "python",
      "pygments_lexer": "ipython3",
      "version": "3.7.7"
    },
    "colab": {
      "provenance": [],
      "collapsed_sections": [
        "K83--qlSC5dm"
      ]
    }
  },
  "nbformat": 4,
  "nbformat_minor": 0
}
